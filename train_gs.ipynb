{
 "cells": [
  {
   "cell_type": "markdown",
   "metadata": {},
   "source": [
    "[![Open in Colab](https://colab.research.google.com/assets/colab-badge.svg)](https://colab.research.google.com/github/Igkho/GS-reconstruction/blob/main/train_gs.ipynb)"
   ]
  },
  {
   "cell_type": "markdown",
   "metadata": {
    "id": "tN-gy6eADESf"
   },
   "source": [
    "The first steps of gaussian splatting processing could be done locally.\n",
    "\n",
    "The images should be processed with colmap (feature extraction, feature matching, reconstruction). Colmap could be installed from https://github.com/colmap/colmap.git. The reconstructed model should be exported onto distorted/sparse directory, i.e. the processed files structure will be as follows:\n",
    "\n",
    "dataset\n",
    "\n",
    ">distorted\n",
    "\n",
    ">> sparse\n",
    "\n",
    ">>> 0\n",
    "\n",
    ">>>> camera.bin\n",
    "\n",
    ">>>> images.bin\n",
    "\n",
    ">>>> points3D.bin\n",
    "\n",
    "> input\n",
    "\n",
    ">> image001.jpg\n",
    "\n",
    ">> image002.jpg\n",
    "\n",
    ">> ...\n",
    "\n",
    "\n",
    "Then the result should be converted (undistorted) with gaussian splatting convert\n",
    "\n",
    "    git clone https://github.com/nyu-systems/Grendel-GS.git\n",
    "    cd Grendel-GS\n",
    "    python convert.py -s {PATH_TO_DATASET} --skip_matching\n",
    "\n",
    "The processed files structure will be as follows:\n",
    "\n",
    "dataset\n",
    "\n",
    "> distorted\n",
    "\n",
    "> images\n",
    "\n",
    ">> image001.jpg\n",
    "\n",
    ">> image002.jpg\n",
    "\n",
    ">> ...\n",
    "\n",
    "> input\n",
    "\n",
    "> sparse\n",
    "\n",
    ">> 0\n",
    "\n",
    ">>> camera.bin\n",
    "\n",
    ">>> images.bin\n",
    "\n",
    ">>> points3D.bin\n",
    "\n",
    "The final stage (training of the gaussians) does have the highest requirements for processing hardware. It could be done in Google Colab, connecting to the runtime with GPU:"
   ]
  },
  {
   "cell_type": "markdown",
   "metadata": {
    "id": "dR_Ard1goUDs"
   },
   "source": [
    "Mount your Google Drive in Colab"
   ]
  },
  {
   "cell_type": "code",
   "execution_count": 1,
   "metadata": {
    "colab": {
     "base_uri": "https://localhost:8080/"
    },
    "id": "uYOZ3Ny0VfcF",
    "outputId": "34777c19-bf97-4a8b-fcbf-a1f2b210b7d5"
   },
   "outputs": [
    {
     "name": "stdout",
     "output_type": "stream",
     "text": [
      "Mounted at /content/drive\n"
     ]
    }
   ],
   "source": [
    "from google.colab import drive\n",
    "drive.mount('/content/drive')"
   ]
  },
  {
   "cell_type": "markdown",
   "metadata": {
    "id": "-CDJ157AoMlM"
   },
   "source": [
    "Check if the selected GPU has CUDA."
   ]
  },
  {
   "cell_type": "code",
   "execution_count": 11,
   "metadata": {
    "colab": {
     "base_uri": "https://localhost:8080/"
    },
    "id": "Jg-_TYBaJkcD",
    "outputId": "dd824747-f060-4317-cce2-487d12f756b1"
   },
   "outputs": [
    {
     "name": "stdout",
     "output_type": "stream",
     "text": [
      "CUDA is available.\n",
      "CUDA version: 12.4\n",
      "GPU: Tesla T4\n"
     ]
    }
   ],
   "source": [
    "import torch\n",
    "\n",
    "if torch.cuda.is_available():\n",
    "    print(\"CUDA is available.\")\n",
    "    print(\"CUDA version:\", torch.version.cuda)\n",
    "    print(\"GPU:\", torch.cuda.get_device_name(0))\n",
    "else:\n",
    "    print(\"CUDA is not available.\")\n"
   ]
  },
  {
   "cell_type": "markdown",
   "metadata": {
    "id": "tkV-vde9DNu7"
   },
   "source": [
    "Clone Grendel Gaussian Splatting repository and submodules (the step could be run only the first time since the data is still stored on your Google Drive)"
   ]
  },
  {
   "cell_type": "code",
   "execution_count": null,
   "metadata": {
    "id": "WD3E6Y895tvm"
   },
   "outputs": [],
   "source": [
    "%cd /content/drive/MyDrive/\n",
    "!git clone https://github.com/nyu-systems/Grendel-GS.git\n",
    "%cd Grendel-GS/submodules\n",
    "!git clone https://github.com/nyu-systems/diff-gaussian-rasterization.git\n",
    "!git clone https://github.com/nerfstudio-project/gsplat.git\n",
    "!git clone https://gitlab.inria.fr/bkerbl/simple-knn.git"
   ]
  },
  {
   "cell_type": "markdown",
   "metadata": {
    "id": "-KMQr4cr33RD"
   },
   "source": [
    "Install dependencies and submodules"
   ]
  },
  {
   "cell_type": "code",
   "execution_count": null,
   "metadata": {
    "id": "gBv05GOf99NN"
   },
   "outputs": [],
   "source": [
    "%cd /content/drive/MyDrive/Grendel-GS/\n",
    "!sudo apt install libglm-dev\n",
    "!pip install plyfile\n",
    "!pip install submodules/diff-gaussian-rasterization/\n",
    "!pip install submodules/simple-knn/\n",
    "!pip install submodules/gsplat/"
   ]
  },
  {
   "cell_type": "markdown",
   "metadata": {
    "id": "DNOFaLEufINO"
   },
   "source": [
    "Download the sample dataset images and reconstructed model and extract them to subfolder (the step could be run only the first time since the data is still stored on your Google Drive)"
   ]
  },
  {
   "cell_type": "code",
   "execution_count": null,
   "metadata": {
    "id": "86QnlJtlfLlZ"
   },
   "outputs": [],
   "source": [
    "from pathlib import Path\n",
    "Path('/content/drive/MyDrive/dataset').mkdir(parents=True, exist_ok=True)\n",
    "%cd /content/drive/MyDrive/dataset\n",
    "!gdown 19tNM74geNq9kbyng5ULfC1H4liH_lhAr\n",
    "!unzip -o -q data.zip"
   ]
  },
  {
   "cell_type": "markdown",
   "metadata": {
    "id": "0hopU9uR5GX-"
   },
   "source": [
    "Set environment variables to maximize GPU memory usage"
   ]
  },
  {
   "cell_type": "code",
   "execution_count": null,
   "metadata": {
    "id": "uFC2fM1ScUe4"
   },
   "outputs": [],
   "source": [
    "%env PYTORCH_CUDA_ALLOC_CONF=expandable_segments:True\n",
    "%env PYTORCH_CUDA_ALLOC_CONF"
   ]
  },
  {
   "cell_type": "markdown",
   "metadata": {
    "id": "IWqKVTVwsMca"
   },
   "source": [
    "Train the converted dataset."
   ]
  },
  {
   "cell_type": "code",
   "execution_count": null,
   "metadata": {
    "id": "PopYnOqoKL6B"
   },
   "outputs": [],
   "source": [
    "%cd /content/drive/MyDrive/Grendel-GS/\n",
    "!python train.py -s /content/drive/MyDrive/dataset -m /content/drive/MyDrive/dataset/output --iterations 30000 --save_iterations 2000 5000 7000 10000 20000 30000 --test_iterations 0 -w"
   ]
  },
  {
   "cell_type": "markdown",
   "metadata": {
    "id": "MbgXRzp8UmoV"
   },
   "source": [
    "Download the .ply file from dataset/output/point_cloud/{iteration_num}/point_cloud_rk0_ws1.py\n",
    "\n",
    "Upload the file to see here: https://playcanvas.com/viewer/"
   ]
  }
 ],
 "metadata": {
  "accelerator": "GPU",
  "colab": {
   "gpuType": "T4",
   "provenance": []
  },
  "kernelspec": {
   "display_name": "Python 3 (ipykernel)",
   "language": "python",
   "name": "python3"
  },
  "language_info": {
   "codemirror_mode": {
    "name": "ipython",
    "version": 3
   },
   "file_extension": ".py",
   "mimetype": "text/x-python",
   "name": "python",
   "nbconvert_exporter": "python",
   "pygments_lexer": "ipython3",
   "version": "3.12.8"
  }
 },
 "nbformat": 4,
 "nbformat_minor": 4
}
